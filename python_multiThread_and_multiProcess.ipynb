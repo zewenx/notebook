{
 "metadata": {
  "language_info": {
   "codemirror_mode": {
    "name": "ipython",
    "version": 3
   },
   "file_extension": ".py",
   "mimetype": "text/x-python",
   "name": "python",
   "nbconvert_exporter": "python",
   "pygments_lexer": "ipython3",
   "version": "3.7.3-final"
  },
  "orig_nbformat": 2,
  "kernelspec": {
   "name": "python_defaultSpec_1596606073315",
   "display_name": "Python 3.7.3 64-bit ('venv': venv)"
  }
 },
 "nbformat": 4,
 "nbformat_minor": 2,
 "cells": [
  {
   "cell_type": "markdown",
   "metadata": {},
   "source": [
    "### 1. Two type of programs\n",
    "In the program word, there are two tipical program types:\n",
    "- **IO-bound** : this type program spend most of their time waiting for input/output. \n",
    "- **CPU bound** : this type program spend most of their time performing calculations in CPU.\n",
    "\n",
    "Let's have a look at a **IO-bound** type program example:\n"
   ]
  },
  {
   "cell_type": "code",
   "execution_count": 2,
   "metadata": {
    "tags": []
   },
   "outputs": [],
   "source": [
    "\n",
    "import requests\n",
    "from concurrent.futures import ThreadPoolExecutor\n",
    "\n",
    "urls = [\n",
    "  'http://www.python.org',\n",
    "  'https://docs.python.org/3/',\n",
    "  'https://docs.python.org/3/whatsnew/3.7.html',\n",
    "  'https://docs.python.org/3/tutorial/index.html',\n",
    "  'https://docs.python.org/3/library/index.html',\n",
    "  'https://docs.python.org/3/reference/index.html',\n",
    "  'https://docs.python.org/3/using/index.html',\n",
    "  'https://docs.python.org/3/howto/index.html',\n",
    "  'https://docs.python.org/3/installing/index.html',\n",
    "  'https://docs.python.org/3/distributing/index.html',\n",
    "  'https://docs.python.org/3/extending/index.html',\n",
    "  'https://docs.python.org/3/c-api/index.html',\n",
    "  'https://docs.python.org/3/faq/index.html'\n",
    "  ]"
   ]
  },
  {
   "cell_type": "code",
   "execution_count": 14,
   "metadata": {
    "tags": []
   },
   "outputs": [
    {
     "output_type": "stream",
     "name": "stdout",
     "text": "CPU times: user 182 ms, sys: 13.2 ms, total: 195 ms\nWall time: 767 ms\n"
    }
   ],
   "source": [
    "%%time\n",
    "\n",
    "results = []\n",
    "for url in urls:\n",
    "    with requests.get(url) as response:\n",
    "        results.append(response.content)"
   ]
  },
  {
   "cell_type": "markdown",
   "metadata": {},
   "source": [
    "This program simply fetch data from a few URLs. The CPU time is only 195 ms, but the total time is 767 ms.\n",
    "\n",
    "Now, let's have a look at an example **CPU bound** type program:"
   ]
  },
  {
   "cell_type": "code",
   "execution_count": 16,
   "metadata": {
    "tags": []
   },
   "outputs": [
    {
     "output_type": "stream",
     "name": "stdout",
     "text": "CPU times: user 128 ms, sys: 4.42 ms, total: 132 ms\nWall time: 138 ms\n"
    }
   ],
   "source": [
    "%%time\n",
    "def is_prime(n):\n",
    "    if n <= 3 and n > 1:\n",
    "        return n\n",
    "    elif n % 2 == 0 or n % 3 == 0:\n",
    "        return 0\n",
    "\n",
    "    i = 5\n",
    "\n",
    "    while i * i <= n :\n",
    "        if n % i == 0 or n % (i + 2) == 0:\n",
    "            return 0\n",
    "        i = i + 6\n",
    "\n",
    "    return n\n",
    "\n",
    "answer = 0\n",
    "n = 100000\n",
    "for i in range(n):\n",
    "    answer += is_prime(i)"
   ]
  },
  {
   "cell_type": "markdown",
   "metadata": {},
   "source": [
    "We can find out that the `132/138 = 95.65%` execution time has been consumed in calculation.\n",
    "### 2. Why do we need mutil-thread and multi-process in python\n",
    "The reason is quite simple, to make a better usage of cpu source, or speed up your program.\n",
    "Let's add multi-thread to the **IO-bound** example:\n"
   ]
  },
  {
   "cell_type": "code",
   "execution_count": 10,
   "metadata": {
    "tags": []
   },
   "outputs": [
    {
     "output_type": "stream",
     "name": "stdout",
     "text": "CPU times: user 181 ms, sys: 15 ms, total: 196 ms\nWall time: 428 ms\n"
    }
   ],
   "source": [
    "%%time\n",
    "with ThreadPoolExecutor(2) as executor:\n",
    "    results = executor.map(requests.get, urls)"
   ]
  },
  {
   "cell_type": "code",
   "execution_count": 12,
   "metadata": {
    "tags": []
   },
   "outputs": [
    {
     "output_type": "stream",
     "name": "stdout",
     "text": "CPU times: user 194 ms, sys: 18.1 ms, total: 212 ms\nWall time: 290 ms\n"
    }
   ],
   "source": [
    "%%time\n",
    "with ThreadPoolExecutor(4) as executor:\n",
    "    results = executor.map(requests.get, urls)"
   ]
  },
  {
   "cell_type": "code",
   "execution_count": 13,
   "metadata": {
    "tags": []
   },
   "outputs": [
    {
     "output_type": "stream",
     "name": "stdout",
     "text": "CPU times: user 215 ms, sys: 19.8 ms, total: 235 ms\nWall time: 221 ms\n"
    }
   ],
   "source": [
    "%%time\n",
    "with ThreadPoolExecutor(6) as executor:\n",
    "    results = executor.map(requests.get, urls)"
   ]
  },
  {
   "cell_type": "markdown",
   "metadata": {},
   "source": [
    "Results:\n",
    "\n",
    "|            |  1 thread  |  2 threads  |  4 threads  |  6 threads  |\n",
    "|:----------:|:----------:|:-----------:|:-----------:|:-----------:|\n",
    "|  CPU time  |   195 ms   |    196 ms   |    212 ms   |    235 ms   |\n",
    "| total time |   767 ms   |    428 ms   |    290 ms   |    221 ms   |\n",
    "\n",
    "It is clear that the CPU time increased and wall time decreases.\n",
    "\n",
    "We can also imporve performance if we apply multi-process for **IO-bound** program, but the overhead tends to be higher than using multi-thread. \n",
    "\n",
    "Now let's apply multi-thread to **CPU bound** program:"
   ]
  },
  {
   "cell_type": "code",
   "execution_count": 33,
   "metadata": {
    "tags": []
   },
   "outputs": [
    {
     "output_type": "stream",
     "name": "stdout",
     "text": "CPU times: user 2.48 s, sys: 111 ms, total: 2.6 s\nWall time: 2.68 s\n"
    }
   ],
   "source": [
    "%%time\n",
    "answer = 0\n",
    "with ThreadPoolExecutor(2) as executor:\n",
    "    answer = sum(executor.map(is_prime, list(range(n)), chunksize=(n/2)))"
   ]
  },
  {
   "cell_type": "code",
   "execution_count": 47,
   "metadata": {
    "tags": []
   },
   "outputs": [
    {
     "output_type": "stream",
     "name": "stdout",
     "text": "CPU times: user 2.62 s, sys: 109 ms, total: 2.73 s\nWall time: 2.81 s\n"
    }
   ],
   "source": [
    "%%time\n",
    "answer = 0\n",
    "with ThreadPoolExecutor(4) as executor:\n",
    "    answer = sum(executor.map(is_prime, list(range(n)), chunksize=(n/4)))"
   ]
  },
  {
   "cell_type": "code",
   "execution_count": 46,
   "metadata": {
    "tags": []
   },
   "outputs": [
    {
     "output_type": "stream",
     "name": "stdout",
     "text": "CPU times: user 2.76 s, sys: 102 ms, total: 2.86 s\nWall time: 2.91 s\n"
    }
   ],
   "source": [
    "%%time\n",
    "answer = 0\n",
    "with ThreadPoolExecutor(8) as executor:\n",
    "    answer = sum(executor.map(is_prime, list(range(n)),chunksize=(n/8)))"
   ]
  },
  {
   "cell_type": "markdown",
   "metadata": {},
   "source": [
    "The result table is:\n",
    "\n",
    "|            |  2 thread  |  4 threads  |  8 threads  | \n",
    "|:----------:|:----------:|:-----------:|:-----------:|\n",
    "|  CPU time  |   2.6 s    |    2.73 s   |    2.86 s   |\n",
    "| total time |   2.68 s   |    2.81 s   |    2.91 s   |\n",
    "It is very strange that when we add more threads we get worse result.\n",
    "\n",
    "Actually, there are a few different implementation of python interpreter:\n",
    "- **CPython**: This interpreter the official interpreter written by C language with a Global Interpreter Lock (GIL). GIL is a mechanism used in computer-language interpreters to synchronize the execution of threads so that only one native thread can execute at a time.\n",
    "- **PyPy**: This interpreter itself is written in a restricted subset of Python called RPython (Restricted Python).RPython puts some constraints on the Python language such that a variable's type can be inferred at compile time. PyPy often runs faster than CPython because PyPy is a just-in-time compiler while CPython is an interpreter.\n",
    "- **Jython**: It is an implementation of the Python programming language designed to run on the Java platform. Jython programs can import and use any Java class. Except for some standard modules, Jython programs use Java classes instead of Python modules. Jython includes almost all of the modules in the standard Python programming language distribution, lacking only some of the modules implemented originally in C.\n",
    "\n",
    "Usually, in this example, we used the official implementation, the CPython. Because of GIL, only one thread will be executed at any time. The more threads we add to thread pool, the more time it will consume when scheduling threads.\n",
    "\n",
    "How about mutil-process?\n",
    "\n"
   ]
  },
  {
   "cell_type": "code",
   "execution_count": 55,
   "metadata": {},
   "outputs": [],
   "source": [
    "from multiprocessing import Pool\n",
    "def is_prime(n):\n",
    "    if n <= 3 and n > 1:\n",
    "        return n\n",
    "    elif n % 2 == 0 or n % 3 == 0:\n",
    "        return 0\n",
    "\n",
    "    i = 5\n",
    "\n",
    "    while i * i <= n :\n",
    "        if n % i == 0 or n % (i + 2) == 0:\n",
    "            return 0\n",
    "        i = i + 6\n",
    "\n",
    "    return n\n",
    "n = 1000000"
   ]
  },
  {
   "cell_type": "code",
   "execution_count": 60,
   "metadata": {
    "tags": []
   },
   "outputs": [
    {
     "output_type": "stream",
     "name": "stdout",
     "text": "CPU times: user 119 ms, sys: 64.7 ms, total: 183 ms\nWall time: 2.69 s\n"
    }
   ],
   "source": [
    "%%time\n",
    "\n",
    "if __name__ == '__main__':\n",
    "    with Pool(1) as p:\n",
    "        answer = sum(p.map(is_prime, list(range(n))))"
   ]
  },
  {
   "cell_type": "code",
   "execution_count": 61,
   "metadata": {
    "tags": []
   },
   "outputs": [
    {
     "output_type": "stream",
     "name": "stdout",
     "text": "CPU times: user 116 ms, sys: 63.1 ms, total: 179 ms\nWall time: 1.57 s\n"
    }
   ],
   "source": [
    "%%time\n",
    "\n",
    "if __name__ == '__main__':\n",
    "    with Pool(2) as p:\n",
    "        answer = sum(p.map(is_prime, list(range(n))))"
   ]
  },
  {
   "cell_type": "code",
   "execution_count": 62,
   "metadata": {
    "tags": []
   },
   "outputs": [
    {
     "output_type": "stream",
     "name": "stdout",
     "text": "CPU times: user 126 ms, sys: 60.1 ms, total: 186 ms\nWall time: 957 ms\n"
    }
   ],
   "source": [
    "%%time\n",
    "if __name__ == '__main__':\n",
    "    with Pool(4) as p:\n",
    "        answer = sum(p.map(is_prime, list(range(n))))"
   ]
  },
  {
   "cell_type": "code",
   "execution_count": 63,
   "metadata": {
    "tags": []
   },
   "outputs": [
    {
     "output_type": "stream",
     "name": "stdout",
     "text": "CPU times: user 143 ms, sys: 72.7 ms, total: 216 ms\nWall time: 875 ms\n"
    }
   ],
   "source": [
    "%%time\n",
    "if __name__ == '__main__':\n",
    "    with Pool(8) as p:\n",
    "        answer = sum(p.map(is_prime, list(range(n))))"
   ]
  },
  {
   "cell_type": "code",
   "execution_count": 64,
   "metadata": {
    "tags": []
   },
   "outputs": [
    {
     "output_type": "stream",
     "name": "stdout",
     "text": "CPU times: user 185 ms, sys: 142 ms, total: 328 ms\nWall time: 1.01 s\n"
    }
   ],
   "source": [
    "%%time\n",
    "if __name__ == '__main__':\n",
    "    with Pool(32) as p:\n",
    "        answer = sum(p.map(is_prime, list(range(n))))"
   ]
  },
  {
   "cell_type": "markdown",
   "metadata": {},
   "source": [
    "|            |  1 processes  |  2 processes  |  4 processes  |  8 processes  | 32 processes  |\n",
    "|:----------:|:----------:|:-----------:|:-----------:|:-----------:|:--:|\n",
    "|  CPU time  |   183 ms   |    179 ms   |    186 ms   |    216 ms   |328 ms|\n",
    "| total time |   2.69 s   |    1.57 s   |    957 ms   |    875 ms   |1.01 s|\n",
    "\n",
    "That's it! The more processes we have, the faster result we can get. But please note that one process usually will occupy one core of CPU. Your process number should be equal to or less than the CPU cores, otherwise Schedule extra process will comsume more CPU resource and eventually slow your program.\n",
    "\n",
    "### 3. TLDR\n",
    "The conclusion is based on the offical python interperter CPython.\n",
    "- **IO-bound** program should use multi-thread to improve performance. When you feel like one core is not enough for your program, you can combine mutil-thread and mutil-process.\n",
    "- **CPU bound** program can use multi-process to improve performance. But limit your processes number based on your situation.\n"
   ]
  }
 ]
}